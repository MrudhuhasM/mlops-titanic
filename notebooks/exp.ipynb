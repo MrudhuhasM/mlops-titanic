{
 "cells": [
  {
   "cell_type": "code",
   "execution_count": 12,
   "id": "1ada17a2",
   "metadata": {},
   "outputs": [],
   "source": [
    "import os\n",
    "import kagglehub"
   ]
  },
  {
   "cell_type": "code",
   "execution_count": 15,
   "id": "6670a1e1",
   "metadata": {},
   "outputs": [
    {
     "name": "stdout",
     "output_type": "stream",
     "text": [
      "File downloaded to: C:\\Users\\mrudh\\.cache\\kagglehub\\datasets\\heptapod\\titanic\\versions\\1\\train_and_test2.csv\n"
     ]
    }
   ],
   "source": [
    "path = kagglehub.dataset_download(\"heptapod/titanic\")\n",
    "file_name = os.listdir(path)[0]\n",
    "file_path = os.path.join(path, file_name)\n",
    "print(f\"File downloaded to: {file_path}\")"
   ]
  },
  {
   "cell_type": "code",
   "execution_count": 16,
   "id": "1728cc00",
   "metadata": {},
   "outputs": [
    {
     "data": {
      "text/plain": [
       "'train_and_test2.csv'"
      ]
     },
     "execution_count": 16,
     "metadata": {},
     "output_type": "execute_result"
    }
   ],
   "source": [
    "os.path.basename(file_path)"
   ]
  },
  {
   "cell_type": "code",
   "execution_count": null,
   "id": "5eda6077",
   "metadata": {},
   "outputs": [],
   "source": []
  }
 ],
 "metadata": {
  "kernelspec": {
   "display_name": "tsp (3.10.16)",
   "language": "python",
   "name": "python3"
  },
  "language_info": {
   "codemirror_mode": {
    "name": "ipython",
    "version": 3
   },
   "file_extension": ".py",
   "mimetype": "text/x-python",
   "name": "python",
   "nbconvert_exporter": "python",
   "pygments_lexer": "ipython3",
   "version": "3.10.16"
  }
 },
 "nbformat": 4,
 "nbformat_minor": 5
}
